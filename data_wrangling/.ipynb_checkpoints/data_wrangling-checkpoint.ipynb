{
 "cells": [
  {
   "cell_type": "code",
   "execution_count": 3,
   "metadata": {
    "collapsed": true
   },
   "outputs": [],
   "source": [
    "import numpy as np\n",
    "import pandas as pd"
   ]
  },
  {
   "cell_type": "code",
   "execution_count": 4,
   "metadata": {
    "collapsed": true
   },
   "outputs": [],
   "source": [
    "pd.options.display.float_format = '{:,.2f}'.format"
   ]
  },
  {
   "cell_type": "code",
   "execution_count": 5,
   "metadata": {
    "collapsed": true
   },
   "outputs": [],
   "source": [
    "orders = pd.read_csv('../data/orders.csv')\n",
    "products = pd.read_csv('../data/products.csv')\n",
    "order_products__prior = pd.read_csv('../data/order_products__prior.csv')\n",
    "order_products__train = pd.read_csv('../data/order_products__train.csv')\n",
    "aisles = pd.read_csv('../data/aisles.csv')\n",
    "departments = pd.read_csv('../data/departments.csv')"
   ]
  },
  {
   "cell_type": "code",
   "execution_count": 6,
   "metadata": {
    "collapsed": true
   },
   "outputs": [],
   "source": [
    "order_products = order_products__prior.append(order_products__train)"
   ]
  },
  {
   "cell_type": "code",
   "execution_count": 7,
   "metadata": {
    "collapsed": true
   },
   "outputs": [],
   "source": [
    "full_df = pd.merge(orders, order_products, how='inner', on='order_id')"
   ]
  },
  {
   "cell_type": "code",
   "execution_count": 8,
   "metadata": {
    "collapsed": true
   },
   "outputs": [],
   "source": [
    "full_df = pd.merge(full_df, products, how='left', on='product_id')"
   ]
  },
  {
   "cell_type": "code",
   "execution_count": 9,
   "metadata": {
    "collapsed": true
   },
   "outputs": [],
   "source": [
    "full_df = pd.merge(full_df, aisles, how='left', on='aisle_id')"
   ]
  },
  {
   "cell_type": "code",
   "execution_count": 10,
   "metadata": {
    "collapsed": true
   },
   "outputs": [],
   "source": [
    "full_df = pd.merge(full_df, departments, how='left', on='department_id')"
   ]
  },
  {
   "cell_type": "code",
   "execution_count": 11,
   "metadata": {
    "collapsed": true
   },
   "outputs": [],
   "source": [
    "full_df.drop(['order_id', 'eval_set', 'product_id', 'aisle_id', 'department_id', 'add_to_cart_order', \n",
    "              'reordered', 'product_name', 'order_number'], axis=1, inplace=True)"
   ]
  },
  {
   "cell_type": "code",
   "execution_count": 12,
   "metadata": {
    "collapsed": true
   },
   "outputs": [],
   "source": [
    "full_df.set_index('user_id', inplace=True)"
   ]
  },
  {
   "cell_type": "code",
   "execution_count": 13,
   "metadata": {},
   "outputs": [
    {
     "data": {
      "text/html": [
       "<div>\n",
       "<style>\n",
       "    .dataframe thead tr:only-child th {\n",
       "        text-align: right;\n",
       "    }\n",
       "\n",
       "    .dataframe thead th {\n",
       "        text-align: left;\n",
       "    }\n",
       "\n",
       "    .dataframe tbody tr th {\n",
       "        vertical-align: top;\n",
       "    }\n",
       "</style>\n",
       "<table border=\"1\" class=\"dataframe\">\n",
       "  <thead>\n",
       "    <tr style=\"text-align: right;\">\n",
       "      <th></th>\n",
       "      <th>order_dow</th>\n",
       "      <th>order_hour_of_day</th>\n",
       "      <th>days_since_prior_order</th>\n",
       "      <th>aisle</th>\n",
       "      <th>department</th>\n",
       "    </tr>\n",
       "    <tr>\n",
       "      <th>user_id</th>\n",
       "      <th></th>\n",
       "      <th></th>\n",
       "      <th></th>\n",
       "      <th></th>\n",
       "      <th></th>\n",
       "    </tr>\n",
       "  </thead>\n",
       "  <tbody>\n",
       "    <tr>\n",
       "      <th>1</th>\n",
       "      <td>2</td>\n",
       "      <td>8</td>\n",
       "      <td>nan</td>\n",
       "      <td>soft drinks</td>\n",
       "      <td>beverages</td>\n",
       "    </tr>\n",
       "    <tr>\n",
       "      <th>1</th>\n",
       "      <td>2</td>\n",
       "      <td>8</td>\n",
       "      <td>nan</td>\n",
       "      <td>soy lactosefree</td>\n",
       "      <td>dairy eggs</td>\n",
       "    </tr>\n",
       "    <tr>\n",
       "      <th>1</th>\n",
       "      <td>2</td>\n",
       "      <td>8</td>\n",
       "      <td>nan</td>\n",
       "      <td>popcorn jerky</td>\n",
       "      <td>snacks</td>\n",
       "    </tr>\n",
       "    <tr>\n",
       "      <th>1</th>\n",
       "      <td>2</td>\n",
       "      <td>8</td>\n",
       "      <td>nan</td>\n",
       "      <td>popcorn jerky</td>\n",
       "      <td>snacks</td>\n",
       "    </tr>\n",
       "    <tr>\n",
       "      <th>1</th>\n",
       "      <td>2</td>\n",
       "      <td>8</td>\n",
       "      <td>nan</td>\n",
       "      <td>paper goods</td>\n",
       "      <td>household</td>\n",
       "    </tr>\n",
       "  </tbody>\n",
       "</table>\n",
       "</div>"
      ],
      "text/plain": [
       "         order_dow  order_hour_of_day  days_since_prior_order  \\\n",
       "user_id                                                         \n",
       "1                2                  8                     nan   \n",
       "1                2                  8                     nan   \n",
       "1                2                  8                     nan   \n",
       "1                2                  8                     nan   \n",
       "1                2                  8                     nan   \n",
       "\n",
       "                   aisle  department  \n",
       "user_id                               \n",
       "1            soft drinks   beverages  \n",
       "1        soy lactosefree  dairy eggs  \n",
       "1          popcorn jerky      snacks  \n",
       "1          popcorn jerky      snacks  \n",
       "1            paper goods   household  "
      ]
     },
     "execution_count": 13,
     "metadata": {},
     "output_type": "execute_result"
    }
   ],
   "source": [
    "full_df.head()"
   ]
  },
  {
   "cell_type": "code",
   "execution_count": 14,
   "metadata": {},
   "outputs": [
    {
     "name": "stdout",
     "output_type": "stream",
     "text": [
      "<class 'pandas.core.frame.DataFrame'>\n",
      "Int64Index: 33819106 entries, 1 to 206209\n",
      "Data columns (total 5 columns):\n",
      "order_dow                 int64\n",
      "order_hour_of_day         int64\n",
      "days_since_prior_order    float64\n",
      "aisle                     object\n",
      "department                object\n",
      "dtypes: float64(1), int64(2), object(2)\n",
      "memory usage: 1.5+ GB\n"
     ]
    }
   ],
   "source": [
    "full_df.info()"
   ]
  },
  {
   "cell_type": "code",
   "execution_count": 15,
   "metadata": {},
   "outputs": [
    {
     "data": {
      "text/plain": [
       "order_dow                       0\n",
       "order_hour_of_day               0\n",
       "days_since_prior_order    2078068\n",
       "aisle                           0\n",
       "department                      0\n",
       "dtype: int64"
      ]
     },
     "execution_count": 15,
     "metadata": {},
     "output_type": "execute_result"
    }
   ],
   "source": [
    "full_df.isnull().sum()"
   ]
  },
  {
   "cell_type": "code",
   "execution_count": 16,
   "metadata": {
    "collapsed": true
   },
   "outputs": [],
   "source": [
    "full_df.days_since_prior_order.fillna(-1, inplace=True)"
   ]
  },
  {
   "cell_type": "code",
   "execution_count": 17,
   "metadata": {},
   "outputs": [],
   "source": [
    "full_df.days_since_prior_order = full_df.days_since_prior_order.astype(int)"
   ]
  },
  {
   "cell_type": "code",
   "execution_count": 18,
   "metadata": {},
   "outputs": [
    {
     "data": {
      "text/plain": [
       "array([-1, 15, 21, 29, 28, 19, 20, 14,  0, 30, 10,  3,  8, 13, 27,  6,  9,\n",
       "       12,  7, 17, 11,  4,  5,  2, 23, 26, 25, 16,  1, 18, 24, 22])"
      ]
     },
     "execution_count": 18,
     "metadata": {},
     "output_type": "execute_result"
    }
   ],
   "source": [
    "full_df.days_since_prior_order.unique()"
   ]
  },
  {
   "cell_type": "code",
   "execution_count": 19,
   "metadata": {
    "collapsed": true
   },
   "outputs": [],
   "source": [
    "full_df.loc[full_df.days_since_prior_order == -1, 'days_since_prior_order'] = 'first_order'"
   ]
  },
  {
   "cell_type": "code",
   "execution_count": 20,
   "metadata": {},
   "outputs": [
    {
     "data": {
      "text/plain": [
       "array(['first_order', 15, 21, 29, 28, 19, 20, 14, 0, 30, 10, 3, 8, 13, 27,\n",
       "       6, 9, 12, 7, 17, 11, 4, 5, 2, 23, 26, 25, 16, 1, 18, 24, 22], dtype=object)"
      ]
     },
     "execution_count": 20,
     "metadata": {},
     "output_type": "execute_result"
    }
   ],
   "source": [
    "full_df.days_since_prior_order.unique()"
   ]
  },
  {
   "cell_type": "code",
   "execution_count": 21,
   "metadata": {},
   "outputs": [
    {
     "name": "stdout",
     "output_type": "stream",
     "text": [
      "<class 'pandas.core.frame.DataFrame'>\n",
      "Int64Index: 33819106 entries, 1 to 206209\n",
      "Data columns (total 5 columns):\n",
      "order_dow                 int64\n",
      "order_hour_of_day         int64\n",
      "days_since_prior_order    object\n",
      "aisle                     object\n",
      "department                object\n",
      "dtypes: int64(2), object(3)\n",
      "memory usage: 1.5+ GB\n"
     ]
    }
   ],
   "source": [
    "full_df.info(memory_usage=True)"
   ]
  },
  {
   "cell_type": "code",
   "execution_count": 22,
   "metadata": {},
   "outputs": [],
   "source": [
    "for col in full_df:\n",
    "    full_df[col] = full_df[col].astype('category')"
   ]
  },
  {
   "cell_type": "code",
   "execution_count": 25,
   "metadata": {},
   "outputs": [
    {
     "name": "stdout",
     "output_type": "stream",
     "text": [
      "<class 'pandas.core.frame.DataFrame'>\n",
      "Int64Index: 33819106 entries, 1 to 206209\n",
      "Data columns (total 5 columns):\n",
      "order_dow                 category\n",
      "order_hour_of_day         category\n",
      "days_since_prior_order    category\n",
      "aisle                     category\n",
      "department                category\n",
      "dtypes: category(5)\n",
      "memory usage: 451.5 MB\n"
     ]
    }
   ],
   "source": [
    "full_df.info(memory_usage=True)"
   ]
  },
  {
   "cell_type": "code",
   "execution_count": 26,
   "metadata": {},
   "outputs": [
    {
     "name": "stdout",
     "output_type": "stream",
     "text": [
      "CPU times: user 40.6 s, sys: 59 s, total: 1min 39s\n",
      "Wall time: 2min 11s\n"
     ]
    }
   ],
   "source": [
    "%%time\n",
    "df_minus_aisles = pd.DataFrame()\n",
    "for col in ['order_dow', 'order_hour_of_day', 'days_since_prior_order', 'department']:\n",
    "    df2 = pd.get_dummies(full_df[col], prefix=col)\n",
    "    df2.reset_index(inplace=True)\n",
    "    df3 = df2.groupby('user_id').sum()\n",
    "    df4 = df3.div(df3.sum(axis=1), axis=0)\n",
    "    df_minus_aisles = pd.concat([df_minus_aisles, df4], axis=1)"
   ]
  },
  {
   "cell_type": "code",
   "execution_count": 27,
   "metadata": {
    "collapsed": true
   },
   "outputs": [],
   "source": [
    "%time\n",
    "df2 = pd.get_dummies(full_df[['aisle']], prefix='aisle')\n",
    "df3 = df2.groupby('user_id', sort=False).sum()\n",
    "df_aisles = df3.div(df3.sum(axis=1), axis=0)"
   ]
  }
 ],
 "metadata": {
  "kernelspec": {
   "display_name": "Python [default]",
   "language": "python",
   "name": "python3"
  },
  "language_info": {
   "codemirror_mode": {
    "name": "ipython",
    "version": 3
   },
   "file_extension": ".py",
   "mimetype": "text/x-python",
   "name": "python",
   "nbconvert_exporter": "python",
   "pygments_lexer": "ipython3",
   "version": "3.6.3"
  }
 },
 "nbformat": 4,
 "nbformat_minor": 2
}
